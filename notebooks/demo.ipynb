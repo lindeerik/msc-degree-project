{
 "cells": [
  {
   "cell_type": "code",
   "execution_count": null,
   "metadata": {},
   "outputs": [],
   "source": [
    "import numpy as np\n",
    "import matplotlib.pyplot as plt\n",
    "\n",
    "from data.data_loader import loadDataCsv\n",
    "from data.data_processing import processData, getDataProcessor, trainTestSplit\n",
    "from models.tuned_models import getPointEstimationModels, getQuantileRegressionModels, getConformalModels"
   ]
  },
  {
   "cell_type": "code",
   "execution_count": null,
   "metadata": {},
   "outputs": [],
   "source": [
    "### LOAD DATA ###\n",
    "trainDataDir = \"../data/intermediate/sthlm-sodertalje/train/\"\n",
    "testDataDir = \"../data/intermediate/sthlm-sodertalje/test/\"\n",
    "hyperparamsDir = \"../config/hyperparameters/\"\n",
    "dfTrain = loadDataCsv(trainDataDir, [\"\", \"-\"])\n",
    "dfTest = loadDataCsv(testDataDir, [\"\", \"-\"])"
   ]
  },
  {
   "cell_type": "code",
   "execution_count": null,
   "metadata": {},
   "outputs": [],
   "source": [
    "### FEATURE CLEANING ###\n",
    "dependentCol = \"UL_bitrate\"\n",
    "#Mbps from Kbps\n",
    "dfTrain[dependentCol] = dfTrain[dependentCol]/ 1024\n",
    "dfTest[dependentCol] = dfTest[dependentCol]/ 1024\n"
   ]
  },
  {
   "cell_type": "code",
   "execution_count": null,
   "metadata": {},
   "outputs": [],
   "source": [
    "### DATA PREPARATION ###\n",
    "selectedFloatCols = [\n",
    "    \"Longitude\",\n",
    "    \"Latitude\",\n",
    "    \"Speed\",\n",
    "    \"SNR\",\n",
    "    \"Level\",\n",
    "    \"Qual\",\n",
    "]\n",
    "selectedCatCols = [\n",
    "    \"CellID\",\n",
    "    \"Node\",\n",
    "    \"NetworkMode\",\n",
    "    \"BAND\",\n",
    "    \"BANDWIDTH\",\n",
    "    \"LAC\",\n",
    "    \"PSC\",\n",
    "]\n",
    "\n",
    "processor = getDataProcessor(selectedFloatCols, selectedCatCols, applyScaler=True)\n",
    "xTrain, yTrain = processData(\n",
    "    dfTrain, selectedFloatCols, selectedCatCols, dependentCol, processor\n",
    ")\n",
    "xTest, yTest = processData(\n",
    "    dfTest,\n",
    "    selectedFloatCols,\n",
    "    selectedCatCols,\n",
    "    dependentCol,\n",
    "    processor,\n",
    "    fitProcessor=False,\n",
    ")"
   ]
  },
  {
   "cell_type": "code",
   "execution_count": null,
   "metadata": {},
   "outputs": [],
   "source": [
    "models = getPointEstimationModels(hyperparamsDir, xTrain.shape[1])\n",
    "for model in models:\n",
    "    print(f\"Model: {model.getName()}\")\n",
    "    model.fit(xTrain, yTrain)\n",
    "    print(f\"Train R2: {model.getR2(xTrain, yTrain):.3f}\")\n",
    "    print(f\"Test R2: {model.getR2(xTest, yTest):.3f}\")\n",
    "    print(\"\")"
   ]
  },
  {
   "cell_type": "code",
   "execution_count": null,
   "metadata": {},
   "outputs": [],
   "source": [
    "### UNCERTAINTY INTERVALS ###\n",
    "alpha = 0.1\n",
    "reservedRatio = 0.15\n",
    "\n",
    "quantileModels = getQuantileRegressionModels(alpha, hyperparamsDir, xTrain.shape[1])\n",
    "for qModel in quantileModels:\n",
    "    qModel.fit(xTrain, yTrain)\n",
    "\n",
    "xTrainPart, xRes, yTrainPart, yRes = trainTestSplit(xTrain, yTrain, 1-reservedRatio)\n",
    "conformalPredictors = getConformalModels(alpha, hyperparamsDir, xTrain.shape[1])\n",
    "for model in conformalPredictors:\n",
    "    model.fit(xTrainPart, yTrainPart, xRes, yRes)\n",
    "\n",
    "uncertaintyModels = quantileModels + conformalPredictors\n"
   ]
  },
  {
   "cell_type": "code",
   "execution_count": null,
   "metadata": {},
   "outputs": [],
   "source": [
    "### EVALUATION ###\n",
    "for model in uncertaintyModels:\n",
    "    print(f\"Model: {model.getName()}\")\n",
    "    print(f\"Average coverage: {model.getCoverageRatio(xTest, yTest)}\")\n",
    "    print(f\"Average width: {model.getAverageIntervalWidth(xTest)}\")\n",
    "    print(\"\")"
   ]
  },
  {
   "cell_type": "code",
   "execution_count": null,
   "metadata": {},
   "outputs": [],
   "source": [
    "def plotValuePredAndInterval(yTrue, yPredInterval, title):\n",
    "    n = len(yTrue)\n",
    "    plt.figure(figsize=(10, 6))\n",
    "    plt.plot(np.arange(n), yTrue, 'o', label=\"Actual Value\", color='blue')\n",
    "    plt.fill_between(np.arange(n), yPredInterval[0], yPredInterval[1], step='mid', color='gray', alpha=0.4, label=\"Prediction Interval\")\n",
    "    plt.xlabel('Sample Index')\n",
    "    plt.ylabel('Uplink throughput (Mbps)')\n",
    "    plt.title(title)\n",
    "    plt.legend()\n"
   ]
  },
  {
   "cell_type": "code",
   "execution_count": null,
   "metadata": {},
   "outputs": [],
   "source": [
    "### ILLUSTRATE INTERVALS ###\n",
    "n = 100\n",
    "xTestPart = xTest[:n]\n",
    "yTestPart = yTest[:n]\n",
    "\n",
    "for model in uncertaintyModels:\n",
    "    yPredInterval = model.predict(xTestPart)\n",
    "    plotValuePredAndInterval(yTestPart, yPredInterval, \"Actual vs Predicted values with intervals: \" + model.getName())\n",
    "\n",
    "plt.show()"
   ]
  }
 ],
 "metadata": {
  "kernelspec": {
   "display_name": ".venv",
   "language": "python",
   "name": "python3"
  },
  "language_info": {
   "codemirror_mode": {
    "name": "ipython",
    "version": 3
   },
   "file_extension": ".py",
   "mimetype": "text/x-python",
   "name": "python",
   "nbconvert_exporter": "python",
   "pygments_lexer": "ipython3",
   "version": "3.9.6"
  }
 },
 "nbformat": 4,
 "nbformat_minor": 2
}
